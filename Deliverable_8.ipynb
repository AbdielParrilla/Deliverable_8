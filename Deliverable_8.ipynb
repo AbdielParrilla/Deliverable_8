{
  "nbformat": 4,
  "nbformat_minor": 0,
  "metadata": {
    "colab": {
      "provenance": []
    },
    "kernelspec": {
      "name": "python3",
      "display_name": "Python 3"
    },
    "language_info": {
      "name": "python"
    }
  },
  "cells": [
    {
      "cell_type": "code",
      "execution_count": 1,
      "metadata": {
        "colab": {
          "base_uri": "https://localhost:8080/"
        },
        "id": "xrUXLp4zivec",
        "outputId": "cc94b428-d389-4651-c8f7-ea9530c8c839"
      },
      "outputs": [
        {
          "output_type": "stream",
          "name": "stdout",
          "text": [
            "Please enter an integer number between 5 and 15: 5\n",
            "The elements of the arrays are: 34 11 10 14 16\n",
            "The sum is: 85\n"
          ]
        }
      ],
      "source": [
        "import random\n",
        "\n",
        "def generate_random_list(length):\n",
        "    \"\"\"\n",
        "    Randomly populates a list with integers numbers between 10 and 50.\n",
        "    The list length is a parameter for the method.\n",
        "    \"\"\"\n",
        "    return [random.randint(10, 50) for _ in range(length)]\n",
        "\n",
        "def sum_list(lst):\n",
        "    \"\"\"\n",
        "    Returns the summation of all the elements of a list (the list is the parameter for this method).\n",
        "    \"\"\"\n",
        "    return sum(lst)\n",
        "\n",
        "# Loop until user provides a proper entry\n",
        "while True:\n",
        "    try:\n",
        "        user_input = int(input(\"Please enter an integer number between 5 and 15: \"))\n",
        "        if user_input < 5 or user_input > 15:\n",
        "            print(\"Invalid input. Please enter an integer number between 5 and 15.\")\n",
        "            continue\n",
        "        break\n",
        "    except ValueError:\n",
        "        print(\"Invalid input. Please enter an integer number between 5 and 15.\")\n",
        "\n",
        "# Generate random list and display its elements\n",
        "lst = generate_random_list(user_input)\n",
        "print(\"The elements of the arrays are:\", *lst)\n",
        "\n",
        "# Sum the elements of the list and display the result\n",
        "sum_of_elements = sum_list(lst)\n",
        "print(\"The sum is:\", sum_of_elements)"
      ]
    }
  ]
}